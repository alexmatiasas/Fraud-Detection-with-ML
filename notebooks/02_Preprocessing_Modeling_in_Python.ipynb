{
 "cells": [
  {
   "cell_type": "markdown",
   "id": "c4ebcafd",
   "metadata": {},
   "source": [
    "# 🧼 Preprocessing & Modeling – IEEE-CIS Fraud Detection\n",
    "\n",
    "## 1. Introduction\n",
    "\n",
    "In this notebook, we implement the preprocessing pipeline and baseline models for the IEEE-CIS Fraud Detection dataset.\n",
    "\n",
    "We use the pre-cleaned data stored in `data/processed/train_clean.csv` and apply the following steps:\n",
    "\n",
    "- Imputation of missing values\n",
    "- Label encoding of categorical variables\n",
    "- Feature scaling\n",
    "- Train-test split\n",
    "- Evaluation of baseline models (Logistic Regression and Random Forest)"
   ]
  },
  {
   "cell_type": "markdown",
   "id": "a8757dc1",
   "metadata": {},
   "source": [
    "## 1.1 🧰 Loading libraries"
   ]
  },
  {
   "cell_type": "code",
   "execution_count": 14,
   "id": "cb09aabf",
   "metadata": {},
   "outputs": [],
   "source": [
    "# ─── Core ─────────────────────────────────────────────\n",
    "import os\n",
    "import sys\n",
    "import pandas as pd\n",
    "import numpy as np\n",
    "\n",
    "# ─── Add project src directory to sys.path ─────────────\n",
    "# Navigate one level up from the notebook (notebooks/ → root/)\n",
    "notebook_dir = os.path.abspath(\"\")  # current working dir where notebook runs\n",
    "project_root = os.path.abspath(os.path.join(notebook_dir, \"..\"))\n",
    "src_path = os.path.join(project_root, \"src\")\n",
    "if src_path not in sys.path:\n",
    "    sys.path.append(src_path)\n",
    "\n",
    "# ─── Visualization ────────────────────────────────────\n",
    "import matplotlib.pyplot as plt\n",
    "import seaborn as sns\n",
    "from visual_config import set_plot_style\n",
    "\n",
    "# ─── Modeling ──────────────────────────────────────────\n",
    "from sklearn.model_selection import train_test_split, StratifiedKFold, cross_val_score\n",
    "from sklearn.metrics import roc_auc_score, classification_report, confusion_matrix, RocCurveDisplay\n",
    "from sklearn.linear_model import LogisticRegression\n",
    "from sklearn.ensemble import RandomForestClassifier\n",
    "\n",
    "# ─── Preprocessing ─────────────────────────────────────\n",
    "from sklearn.preprocessing import LabelEncoder, StandardScaler\n",
    "from sklearn.impute import SimpleImputer\n",
    "\n",
    "# ─── Config ────────────────────────────────────────────\n",
    "import warnings\n",
    "warnings.filterwarnings(\"ignore\")\n",
    "set_plot_style()"
   ]
  },
  {
   "cell_type": "markdown",
   "id": "034082a3",
   "metadata": {},
   "source": [
    "## 2. ✅ Load and merge of the dataset (baseline model)"
   ]
  },
  {
   "cell_type": "code",
   "execution_count": 2,
   "id": "5f670eb2",
   "metadata": {},
   "outputs": [
    {
     "name": "stdout",
     "output_type": "stream",
     "text": [
      "✅ train_transaction shape: (590540, 394)\n",
      "✅ train_identity shape:    (144233, 41)\n",
      "✅ merged train_data shape: (590540, 434)\n"
     ]
    }
   ],
   "source": [
    "# Load training datasets\n",
    "transaction_path = os.path.join(project_root, \"data\", \"ieee-fraud-detection\", \"train_transaction.csv\")\n",
    "identity_path = os.path.join(project_root, \"data\", \"ieee-fraud-detection\", \"train_identity.csv\")\n",
    "\n",
    "train_transaction = pd.read_csv(transaction_path)\n",
    "train_identity = pd.read_csv(identity_path)\n",
    "\n",
    "# Merge datasets using left join on TransactionID\n",
    "train_data = pd.merge(train_transaction, train_identity, on=\"TransactionID\", how=\"left\")\n",
    "\n",
    "print(f\"✅ train_transaction shape: {train_transaction.shape}\")\n",
    "print(f\"✅ train_identity shape:    {train_identity.shape}\")\n",
    "print(f\"✅ merged train_data shape: {train_data.shape}\")"
   ]
  },
  {
   "cell_type": "code",
   "execution_count": 3,
   "id": "6880c82d",
   "metadata": {},
   "outputs": [
    {
     "name": "stdout",
     "output_type": "stream",
     "text": [
      "✅ Processed data saved to /Users/alexmatias/Documents/My Work/My work Software/Proyectos Data Science/To the portfolio/Fraud-Detection-with-ML/data/processed/train_clean.csv\n"
     ]
    }
   ],
   "source": [
    "from data_preprocessing import save_processed_data\n",
    "save_processed_data(train_data)"
   ]
  },
  {
   "cell_type": "markdown",
   "id": "e28c6a88",
   "metadata": {},
   "source": [
    "## 3. Preprocessing\n",
    "\n",
    "### 3.1 Handling Missing Values\n",
    "\n",
    "We handle missing values using simple imputation strategies. For numerical features, we use the median. For categorical ones, the most frequent value."
   ]
  },
  {
   "cell_type": "code",
   "execution_count": 4,
   "id": "acd3a0f8",
   "metadata": {},
   "outputs": [],
   "source": [
    "# importing functions from src/data_preprocessing.py\n",
    "from data_preprocessing import impute_missing_values, encode_categorical, scale_features"
   ]
  },
  {
   "cell_type": "code",
   "execution_count": 5,
   "id": "03d394a6",
   "metadata": {},
   "outputs": [
    {
     "name": "stdout",
     "output_type": "stream",
     "text": [
      "✅ Missing values imputed.\n"
     ]
    }
   ],
   "source": [
    "# Impute missing values (SimpleImputer)\n",
    "train_data = impute_missing_values(train_data)\n",
    "print(\"✅ Missing values imputed.\")"
   ]
  },
  {
   "cell_type": "markdown",
   "id": "a154b7a6",
   "metadata": {},
   "source": [
    "### 3.2 Encoding Categorical Variables\n",
    "\n",
    "Categorical features are label encoded to convert them into numerical format required by ML models."
   ]
  },
  {
   "cell_type": "code",
   "execution_count": 6,
   "id": "044bee32",
   "metadata": {},
   "outputs": [
    {
     "name": "stdout",
     "output_type": "stream",
     "text": [
      "✅ Categorical features encoded.\n"
     ]
    }
   ],
   "source": [
    "train_data = encode_categorical(train_data)\n",
    "print(\"✅ Categorical features encoded.\")"
   ]
  },
  {
   "cell_type": "code",
   "execution_count": 7,
   "id": "87beaad7",
   "metadata": {},
   "outputs": [
    {
     "name": "stdout",
     "output_type": "stream",
     "text": [
      "✅ Processed data saved to /Users/alexmatias/Documents/My Work/My work Software/Proyectos Data Science/To the portfolio/Fraud-Detection-with-ML/data/processed/train_final_ready.csv\n"
     ]
    }
   ],
   "source": [
    "# save the processed data\n",
    "save_processed_data(train_data, \"train_final_ready.csv\")"
   ]
  },
  {
   "cell_type": "markdown",
   "id": "067ec317",
   "metadata": {},
   "source": [
    "## 4. Train-Test Split\n",
    "\n",
    "We split the preprocessed dataset into training and test sets using a 80/20 ratio. The target variable is `isFraud`, and we apply stratification to preserve class imbalance during the split."
   ]
  },
  {
   "cell_type": "code",
   "execution_count": 8,
   "id": "a77404f0",
   "metadata": {},
   "outputs": [],
   "source": [
    "# Separate features and target\n",
    "X = train_data.drop(\"isFraud\", axis=1)\n",
    "y = train_data[\"isFraud\"]\n",
    "\n",
    "# Scale only features\n",
    "X = scale_features(X)"
   ]
  },
  {
   "cell_type": "code",
   "execution_count": 9,
   "id": "891ed03f",
   "metadata": {},
   "outputs": [
    {
     "name": "stdout",
     "output_type": "stream",
     "text": [
      "✅ Train shape: (472432, 433)\n",
      "✅ Test shape:  (118108, 433)\n"
     ]
    }
   ],
   "source": [
    "# Stratified split\n",
    "X_train, X_test, y_train, y_test = train_test_split(\n",
    "    X, y, test_size=0.2, stratify=y, random_state=42\n",
    ")\n",
    "\n",
    "print(f\"✅ Train shape: {X_train.shape}\")\n",
    "print(f\"✅ Test shape:  {X_test.shape}\")"
   ]
  },
  {
   "cell_type": "markdown",
   "id": "141a36c2",
   "metadata": {},
   "source": [
    "## 5. Baseline Models"
   ]
  },
  {
   "cell_type": "markdown",
   "id": "9afdf88a",
   "metadata": {},
   "source": [
    "### 5.1 Logistic Regression\n",
    "\n",
    "We train a baseline `Logistic Regression` model to establish a performance reference. We evaluate it using confusion matrix, classification report, and ROC AUC score."
   ]
  },
  {
   "cell_type": "code",
   "execution_count": 10,
   "id": "4d47d99c",
   "metadata": {},
   "outputs": [],
   "source": [
    "# Train Logistic Regression\n",
    "lr_model = LogisticRegression(max_iter=1000, random_state=42)\n",
    "lr_model.fit(X_train, y_train)\n",
    "\n",
    "# Predict\n",
    "y_pred_lr = lr_model.predict(X_test)\n",
    "y_proba_lr = lr_model.predict_proba(X_test)[:, 1]"
   ]
  },
  {
   "cell_type": "markdown",
   "id": "48dc5bcb",
   "metadata": {},
   "source": [
    "#### 5.1.1 Evaluation of the model\n",
    "\n",
    "We evaluate how good this models performs through\n",
    "\n",
    "- Confussion matrix\n",
    "- ROC AUC score\n",
    "- ROC curve"
   ]
  },
  {
   "cell_type": "code",
   "execution_count": 12,
   "id": "6ac1c8bc",
   "metadata": {},
   "outputs": [
    {
     "name": "stdout",
     "output_type": "stream",
     "text": [
      "🔍 Classification Report (Logistic Regression):\n",
      "\n",
      "              precision    recall  f1-score   support\n",
      "\n",
      "         0.0       0.97      1.00      0.99    113975\n",
      "         1.0       0.82      0.26      0.40      4133\n",
      "\n",
      "    accuracy                           0.97    118108\n",
      "   macro avg       0.90      0.63      0.69    118108\n",
      "weighted avg       0.97      0.97      0.97    118108\n",
      "\n",
      "🔍 Confusion Matrix:\n",
      "[[113743    232]\n",
      " [  3043   1090]]\n"
     ]
    }
   ],
   "source": [
    "# Evaluation\n",
    "print(\"🔍 Classification Report (Logistic Regression):\\n\")\n",
    "print(classification_report(y_test, y_pred_lr))\n",
    "\n",
    "print(\"🔍 Confusion Matrix:\")\n",
    "print(confusion_matrix(y_test, y_pred_lr))"
   ]
  },
  {
   "cell_type": "code",
   "execution_count": 15,
   "id": "ac058f7c",
   "metadata": {},
   "outputs": [
    {
     "name": "stdout",
     "output_type": "stream",
     "text": [
      "✅ ROC AUC: 0.8559\n"
     ]
    },
    {
     "data": {
      "image/png": "[encoded data removed]",
      "text/plain": [
       "<Figure size 1000x600 with 1 Axes>"
      ]
     },
     "metadata": {},
     "output_type": "display_data"
    }
   ],
   "source": [
    "roc_auc = roc_auc_score(y_test, y_proba_lr)\n",
    "print(f\"✅ ROC AUC: {roc_auc:.4f}\")\n",
    "\n",
    "RocCurveDisplay.from_estimator(lr_model, X_test, y_test)\n",
    "plt.title(\"ROC Curve - Logistic Regression\")\n",
    "plt.show()"
   ]
  },
  {
   "cell_type": "markdown",
   "id": "c5cf3267",
   "metadata": {},
   "source": [
    "### 5.1.2 Model Evaluation Summary\n",
    "\n",
    "- **AUC Score**: 0.856\n",
    "- **Precision (Fraud class)**: 0.82\n",
    "- **Recall (Fraud class)**: 0.26 → ⚠️ Indicates high false negatives\n",
    "- **Confusion Matrix**:  \n",
    "  - True Negatives: 113,743  \n",
    "  - False Positives: 232  \n",
    "  - False Negatives: 3,043  \n",
    "  - True Positives: 1,090\n",
    "\n",
    "**Comment**:  \n",
    "The model achieves high accuracy, but recall for fraud detection is low. This is expected for a baseline logistic regression in imbalanced datasets. Further models should address this, e.g., Random Forest with class weights or SMOTE."
   ]
  },
  {
   "cell_type": "markdown",
   "id": "fc39f6a1",
   "metadata": {},
   "source": [
    "### 5.2 Random Forest"
   ]
  },
  {
   "cell_type": "markdown",
   "id": "6a3c7e2d",
   "metadata": {},
   "source": []
  },
  {
   "cell_type": "code",
   "execution_count": 16,
   "id": "5186b0ed",
   "metadata": {},
   "outputs": [],
   "source": [
    "# Train model\n",
    "rf_model = RandomForestClassifier(n_estimators=100, random_state=42, n_jobs=-1)\n",
    "rf_model.fit(X_train, y_train)\n",
    "\n",
    "# Predict\n",
    "y_pred_rf = rf_model.predict(X_test)\n",
    "y_proba_rf = rf_model.predict_proba(X_test)[:, 1]\n"
   ]
  },
  {
   "cell_type": "code",
   "execution_count": 17,
   "id": "56808120",
   "metadata": {},
   "outputs": [
    {
     "name": "stdout",
     "output_type": "stream",
     "text": [
      "🔎 Classification Report (Random Forest):\n",
      "\n",
      "              precision    recall  f1-score   support\n",
      "\n",
      "         0.0       0.98      1.00      0.99    113975\n",
      "         1.0       0.94      0.45      0.61      4133\n",
      "\n",
      "    accuracy                           0.98    118108\n",
      "   macro avg       0.96      0.72      0.80    118108\n",
      "weighted avg       0.98      0.98      0.98    118108\n",
      "\n",
      "🔎 Confusion Matrix:\n",
      "[[113860    115]\n",
      " [  2279   1854]]\n"
     ]
    }
   ],
   "source": [
    "# Evaluation\n",
    "print(\"🔎 Classification Report (Random Forest):\\n\")\n",
    "print(classification_report(y_test, y_pred_rf))\n",
    "\n",
    "print(\"🔎 Confusion Matrix:\")\n",
    "print(confusion_matrix(y_test, y_pred_rf))"
   ]
  },
  {
   "cell_type": "code",
   "execution_count": 18,
   "id": "b2492e92",
   "metadata": {},
   "outputs": [
    {
     "name": "stdout",
     "output_type": "stream",
     "text": [
      "✅ ROC AUC: 0.9326\n"
     ]
    },
    {
     "data": {
      "image/png": "[encoded data removed]",
      "text/plain": [
       "<Figure size 1000x600 with 1 Axes>"
      ]
     },
     "metadata": {},
     "output_type": "display_data"
    }
   ],
   "source": [
    "# ROC-AUC\n",
    "roc_auc_rf = roc_auc_score(y_test, y_proba_rf)\n",
    "print(f\"✅ ROC AUC: {roc_auc_rf:.4f}\")\n",
    "\n",
    "# ROC Curve\n",
    "RocCurveDisplay.from_estimator(rf_model, X_test, y_test)\n",
    "plt.title(\"ROC Curve – Random Forest\")\n",
    "plt.show()"
   ]
  },
  {
   "cell_type": "markdown",
   "id": "c9a75b40",
   "metadata": {},
   "source": [
    "### Key Findings:\n",
    "\n",
    "- 🔍 **Random Forest** significantly outperforms **Logistic Regression**, especially in detecting fraud cases.\n",
    "- ⚠️ Despite improvement, recall for fraud class remains moderate (~45%), suggesting room for optimization (e.g., feature selection, class balancing).\n",
    "- ✅ **ROC AUC** improved from **0.86** (LR) to **0.93** (RF), indicating better discrimination capacity.\n",
    "\n",
    "### Next Steps:\n",
    "\n",
    "- Try more advanced models (e.g., XGBoost, LightGBM).\n",
    "- Perform hyperparameter tuning.\n",
    "- Explore class balancing techniques (e.g., SMOTE, class weights)."
   ]
  },
  {
   "cell_type": "markdown",
   "id": "5a6f821d",
   "metadata": {},
   "source": [
    "## 6. Final Remarks"
   ]
  },
  {
   "cell_type": "markdown",
   "id": "8021b897",
   "metadata": {},
   "source": []
  }
 ],
 "metadata": {
  "kernelspec": {
   "display_name": "Python (fraud-eda)",
   "language": "python",
   "name": "fraud-eda"
  },
  "language_info": {
   "codemirror_mode": {
    "name": "ipython",
    "version": 3
   },
   "file_extension": ".py",
   "mimetype": "text/x-python",
   "name": "python",
   "nbconvert_exporter": "python",
   "pygments_lexer": "ipython3",
   "version": "3.10.5"
  }
 },
 "nbformat": 4,
 "nbformat_minor": 5
}
